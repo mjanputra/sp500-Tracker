{
 "cells": [
  {
   "cell_type": "code",
   "execution_count": null,
   "id": "a55b4077-7941-4f31-9133-b4fe05c1c24a",
   "metadata": {
    "scrolled": true
   },
   "outputs": [],
   "source": [
    "!pip install yfinance\n",
    "!pip install scikit-learn\n",
    "!pip install matplotlib\n",
    "!pip install pandas"
   ]
  },
  {
   "cell_type": "code",
   "execution_count": 2,
   "id": "0d4b5abb-70b1-4a1b-adc1-c1c91895ef69",
   "metadata": {},
   "outputs": [],
   "source": [
    "import yfinance as yf\n",
    "import pandas as pd\n",
    "import numpy as np\n",
    "import matplotlib.pyplot as plt\n",
    "from sklearn.model_selection import train_test_split\n",
    "from sklearn.ensemble import RandomForestClassifier\n",
    "from sklearn.metrics import accuracy_score"
   ]
  },
  {
   "cell_type": "code",
   "execution_count": 3,
   "id": "a228156d-5255-4bb7-a3e3-94c6772af3dc",
   "metadata": {},
   "outputs": [],
   "source": [
    "sp500 = yf.Ticker(\"^GSPC\")"
   ]
  },
  {
   "cell_type": "code",
   "execution_count": 4,
   "id": "54f19d17-e2e9-4471-9c0e-06fa59a56926",
   "metadata": {},
   "outputs": [],
   "source": [
    "sp500 = sp500.history(period = \"max\")"
   ]
  },
  {
   "cell_type": "code",
   "execution_count": 6,
   "id": "983951d3-cc56-4e3a-9789-e60966b97680",
   "metadata": {},
   "outputs": [
    {
     "data": {
      "text/plain": [
       "<Axes: xlabel='Date'>"
      ]
     },
     "execution_count": 6,
     "metadata": {},
     "output_type": "execute_result"
    },
    {
     "data": {
      "image/png": "[encoded data removed]",
      "text/plain": [
       "<Figure size 640x480 with 1 Axes>"
      ]
     },
     "metadata": {},
     "output_type": "display_data"
    }
   ],
   "source": [
    "sp500.plot.line(y=\"Close\", use_index=True)"
   ]
  },
  {
   "cell_type": "code",
   "execution_count": 7,
   "id": "4806fd07-beba-4f5f-b84e-c9e3e65fdd64",
   "metadata": {},
   "outputs": [],
   "source": [
    "del sp500[\"Dividends\"]\n",
    "del sp500[\"Stock Splits\"]"
   ]
  },
  {
   "cell_type": "code",
   "execution_count": 8,
   "id": "b4d9b161-3196-4a7c-8c64-993e217a28ca",
   "metadata": {},
   "outputs": [],
   "source": [
    "sp500[\"Tomorrow\"] = sp500[\"Close\"].shift(-1)"
   ]
  },
  {
   "cell_type": "code",
   "execution_count": 9,
   "id": "7f5e0be1-2f46-42be-a9db-8a8d08a8a736",
   "metadata": {},
   "outputs": [],
   "source": [
    "sp500[\"Target\"] = (sp500[\"Tomorrow\"] > sp500[\"Close\"]).astype(int)"
   ]
  },
  {
   "cell_type": "code",
   "execution_count": 11,
   "id": "a0f86f83-1f2d-41c8-9de9-d9d0f8c82b18",
   "metadata": {},
   "outputs": [],
   "source": [
    "sp500 = sp500.loc[\"2000-01-01\":].copy()"
   ]
  },
  {
   "cell_type": "code",
   "execution_count": null,
   "id": "6fdbf361-b1d9-4a09-afaa-27e2b8996893",
   "metadata": {},
   "outputs": [],
   "source": [
    "from sklearn.ensemble import RandomForestClassifier\n",
    "\n",
    "model = RandomForestClassifier(n_estimators=100, min_samples_split=100, random_state=1)\n",
    "\n",
    "train = sp500.iloc[:-100]\n",
    "test = sp500.iloc[-100:]\n",
    "\n",
    "predictors = [\"Close\", \"Volume\", \"Open\", \"High\", \"Low\"]\n",
    "model.fit(train[predictors], train[\"Target\"])\n"
   ]
  },
  {
   "cell_type": "code",
   "execution_count": 14,
   "id": "448324ea-0683-4782-9043-5ff2ff708ab4",
   "metadata": {},
   "outputs": [],
   "source": [
    "from sklearn.metrics import precision_score\n",
    "\n",
    "preds = model.predict(test[predictors])"
   ]
  },
  {
   "cell_type": "code",
   "execution_count": 15,
   "id": "8f1feb39-456e-454b-b129-1fcd32f4c031",
   "metadata": {},
   "outputs": [],
   "source": [
    "\n",
    "preds = pd.Series(preds, index=test.index)"
   ]
  },
  {
   "cell_type": "code",
   "execution_count": 40,
   "id": "21856f89-37ba-4677-9130-7f6e9e6cea88",
   "metadata": {},
   "outputs": [
    {
     "data": {
      "text/plain": [
       "Date\n",
       "2023-09-15 00:00:00-04:00    0\n",
       "2023-09-18 00:00:00-04:00    0\n",
       "2023-09-19 00:00:00-04:00    1\n",
       "2023-09-20 00:00:00-04:00    0\n",
       "2023-09-21 00:00:00-04:00    1\n",
       "                            ..\n",
       "2024-02-01 00:00:00-05:00    0\n",
       "2024-02-02 00:00:00-05:00    0\n",
       "2024-02-05 00:00:00-05:00    0\n",
       "2024-02-06 00:00:00-05:00    0\n",
       "2024-02-07 00:00:00-05:00    0\n",
       "Length: 100, dtype: int32"
      ]
     },
     "execution_count": 40,
     "metadata": {},
     "output_type": "execute_result"
    }
   ],
   "source": [
    "preds"
   ]
  },
  {
   "cell_type": "code",
   "execution_count": 17,
   "id": "e005753d-0829-4c62-a5be-f751b08bc5a1",
   "metadata": {},
   "outputs": [
    {
     "data": {
      "text/plain": [
       "0.5581395348837209"
      ]
     },
     "execution_count": 17,
     "metadata": {},
     "output_type": "execute_result"
    }
   ],
   "source": [
    "precision_score(test[\"Target\"], preds)"
   ]
  },
  {
   "cell_type": "code",
   "execution_count": 18,
   "id": "ef141671-8a27-4d9e-bfc1-2b46410416ed",
   "metadata": {},
   "outputs": [],
   "source": [
    "combined = pd.concat([test[\"Target\"], preds], axis=1)"
   ]
  },
  {
   "cell_type": "markdown",
   "id": "f03df453-c9ca-4d38-b7d6-325fc9c20de1",
   "metadata": {},
   "source": [
    "##### combined.plot()"
   ]
  },
  {
   "cell_type": "code",
   "execution_count": 19,
   "id": "1b3b0dc9-482b-4525-aef0-a8cbfcde677d",
   "metadata": {},
   "outputs": [],
   "source": [
    "import pandas as pd\n",
    "\n",
    "def predict(train, test, predictors, model):\n",
    "    model.fit(train[predictors], train[\"Target\"])\n",
    "    preds = model.predict(test[predictors])\n",
    "    preds = pd.Series(preds, index=test.index, name=\"Predictions\")\n",
    "    combined = pd.concat([test[\"Target\"], preds], axis=1)\n",
    "    return combined"
   ]
  },
  {
   "cell_type": "code",
   "execution_count": 20,
   "id": "483e7529-435a-484a-bb3e-db0adeb7cfd6",
   "metadata": {},
   "outputs": [],
   "source": [
    "import pandas as pd\n",
    "def backtest(data, model, predictors, start=2500, step=250):\n",
    "    all_predictions = []\n",
    "\n",
    "    for i in range(start, data.shape[0], step):\n",
    "        train = data.iloc[0:i].copy()\n",
    "        test = data.iloc[i:(i+step)].copy()\n",
    "        predictions = predict(train, test, predictors, model)\n",
    "        all_predictions.append(predictions)\n",
    "    return pd.concat(all_predictions)"
   ]
  },
  {
   "cell_type": "code",
   "execution_count": 21,
   "id": "24d4e8ca-2449-43ff-8fd3-76ea2d9ce20c",
   "metadata": {},
   "outputs": [],
   "source": [
    "predictions = backtest(sp500, model, predictors)"
   ]
  },
  {
   "cell_type": "code",
   "execution_count": 22,
   "id": "e0677d0d-bde4-4e41-9484-f17d69f5be81",
   "metadata": {},
   "outputs": [
    {
     "data": {
      "text/plain": [
       "Predictions\n",
       "1    1842\n",
       "0    1721\n",
       "Name: count, dtype: int64"
      ]
     },
     "execution_count": 22,
     "metadata": {},
     "output_type": "execute_result"
    }
   ],
   "source": [
    "predictions[\"Predictions\"].value_counts()"
   ]
  },
  {
   "cell_type": "code",
   "execution_count": 23,
   "id": "b3dfac89-76af-4710-8488-79af7bc99c15",
   "metadata": {},
   "outputs": [
    {
     "data": {
      "text/plain": [
       "0.5228013029315961"
      ]
     },
     "execution_count": 23,
     "metadata": {},
     "output_type": "execute_result"
    }
   ],
   "source": [
    "precision_score(predictions[\"Target\"], predictions[\"Predictions\"])"
   ]
  },
  {
   "cell_type": "code",
   "execution_count": 24,
   "id": "b7844b50-0b31-417f-926d-944c156a2c4e",
   "metadata": {},
   "outputs": [
    {
     "data": {
      "text/plain": [
       "Target\n",
       "1    0.543924\n",
       "0    0.456076\n",
       "Name: count, dtype: float64"
      ]
     },
     "execution_count": 24,
     "metadata": {},
     "output_type": "execute_result"
    }
   ],
   "source": [
    "predictions[\"Target\"].value_counts() / predictions.shape[0]"
   ]
  },
  {
   "cell_type": "code",
   "execution_count": 25,
   "id": "073e750c-9b88-45f2-b2b1-0ced40670e92",
   "metadata": {},
   "outputs": [],
   "source": [
    "horizons = [2,5,60,250,1000]\n",
    "new_predictors = []\n",
    "\n",
    "for horizon in horizons:\n",
    "    rolling_averages = sp500.rolling(horizon).mean()\n",
    "\n",
    "    ratio_column = f\"Close_Ratio_{horizon}\"\n",
    "    sp500[ratio_column] = sp500[\"Close\"] / rolling_averages[\"Close\"]\n",
    "\n",
    "    trend_column = f\"Trend_{horizon}\"\n",
    "    sp500[trend_column] = sp500.shift(1).rolling(horizon).sum()[\"Target\"]\n",
    "\n",
    "new_predictors += [ratio_column, trend_column]"
   ]
  },
  {
   "cell_type": "code",
   "execution_count": 26,
   "id": "09f4b48e-0ac8-49dd-9946-78d100003fd5",
   "metadata": {},
   "outputs": [],
   "source": [
    "sp500 = sp500.dropna()"
   ]
  },
  {
   "cell_type": "code",
   "execution_count": 28,
   "id": "1091466a-768c-45ab-9a80-25ae0d00db28",
   "metadata": {},
   "outputs": [],
   "source": [
    "model = RandomForestClassifier(n_estimators=200, min_samples_split=50, random_state=1)"
   ]
  },
  {
   "cell_type": "code",
   "execution_count": 41,
   "id": "9d9e52fd-beda-4c2c-b802-9a4a416d4a60",
   "metadata": {},
   "outputs": [],
   "source": [
    "def predict(train, test, predictors, model):\n",
    "    model.fit(train[predictors], train[\"Target\"])\n",
    "    preds = model.predict_proba(test[predictors])[:,1]\n",
    "    preds[preds >= .5] = 1\n",
    "    preds[preds < .5] = 0\n",
    "    preds = pd.Series(preds, index=test.index, name=\"Predictions\")\n",
    "    combined = pd.concat([test[\"Target\"], preds], axis=1)\n",
    "    return combined"
   ]
  },
  {
   "cell_type": "code",
   "execution_count": 42,
   "id": "7119b9d8-e469-4a17-9bee-04c863887d45",
   "metadata": {},
   "outputs": [],
   "source": [
    "predictions = backtest(sp500, model, new_predictors)"
   ]
  },
  {
   "cell_type": "code",
   "execution_count": 43,
   "id": "747073be-e4b9-4f2e-b70e-c2ddc9461e48",
   "metadata": {},
   "outputs": [
    {
     "data": {
      "text/plain": [
       "Predictions\n",
       "1.0    1453\n",
       "0.0    1109\n",
       "Name: count, dtype: int64"
      ]
     },
     "execution_count": 43,
     "metadata": {},
     "output_type": "execute_result"
    }
   ],
   "source": [
    "predictions[\"Predictions\"].value_counts()"
   ]
  },
  {
   "cell_type": "code",
   "execution_count": 44,
   "id": "8e49201e-73fc-4678-b4b0-b3414549b2aa",
   "metadata": {},
   "outputs": [
    {
     "data": {
      "text/plain": [
       "0.5375086028905712"
      ]
     },
     "execution_count": 44,
     "metadata": {},
     "output_type": "execute_result"
    }
   ],
   "source": [
    "precision_score(predictions[\"Target\"], predictions[\"Predictions\"])"
   ]
  },
  {
   "cell_type": "code",
   "execution_count": 57,
   "id": "6430f0ea-0b06-47d2-a3c0-ae52549f5e5e",
   "metadata": {},
   "outputs": [],
   "source": [
    "def add_macd_indicators(df):\n",
    "    df = df.copy()  # Make a copy to ensure modifications are made on a new object\n",
    "    df['EMA12'] = df['Close'].ewm(span=12, adjust=False).mean()    # ewm = exponential Weigthed Moving Average\n",
    "    df['EMA26'] = df['Close'].ewm(span=26, adjust=False).mean()\n",
    "    df['MACD'] = df['EMA12'] - df['EMA26']\n",
    "    df['Signal_Line'] = df['MACD'].ewm(span=9, adjust=False).mean()\n",
    "    return df"
   ]
  },
  {
   "cell_type": "code",
   "execution_count": 58,
   "id": "f009d24b-f5a0-4511-a22d-7803dae75dca",
   "metadata": {},
   "outputs": [],
   "source": [
    "sp500 = add_macd_indicators(sp500)"
   ]
  },
  {
   "cell_type": "code",
   "execution_count": 59,
   "id": "082becc1-ee74-4d5e-a7c4-f27af4b9e859",
   "metadata": {},
   "outputs": [],
   "source": [
    "new_predictors = [\"MACD\", \"Signal_Line\"]"
   ]
  },
  {
   "cell_type": "code",
   "execution_count": 60,
   "id": "6feafaec-f6cc-4889-b4dc-af710daed1d9",
   "metadata": {},
   "outputs": [],
   "source": [
    "predictions = backtest(sp500, model, new_predictors)"
   ]
  },
  {
   "cell_type": "code",
   "execution_count": 61,
   "id": "e41f156c-c2ef-47a5-b547-5fc2ffce8cc5",
   "metadata": {},
   "outputs": [
    {
     "data": {
      "text/plain": [
       "Predictions\n",
       "1.0    1604\n",
       "0.0     958\n",
       "Name: count, dtype: int64"
      ]
     },
     "execution_count": 61,
     "metadata": {},
     "output_type": "execute_result"
    }
   ],
   "source": [
    "predictions[\"Predictions\"].value_counts()"
   ]
  },
  {
   "cell_type": "code",
   "execution_count": 62,
   "id": "1d730cc4-e993-4915-b1de-3b2be34bb6d9",
   "metadata": {},
   "outputs": [
    {
     "data": {
      "text/plain": [
       "0.520573566084788"
      ]
     },
     "execution_count": 62,
     "metadata": {},
     "output_type": "execute_result"
    }
   ],
   "source": [
    "precision_score(predictions[\"Target\"], predictions[\"Predictions\"])"
   ]
  },
  {
   "cell_type": "code",
   "execution_count": 56,
   "id": "b39f9067-a9b5-42b6-97b0-32309b8efbe7",
   "metadata": {},
   "outputs": [
    {
     "data": {
      "text/html": [
       "<div>\n",
       "<style scoped>\n",
       "    .dataframe tbody tr th:only-of-type {\n",
       "        vertical-align: middle;\n",
       "    }\n",
       "\n",
       "    .dataframe tbody tr th {\n",
       "        vertical-align: top;\n",
       "    }\n",
       "\n",
       "    .dataframe thead th {\n",
       "        text-align: right;\n",
       "    }\n",
       "</style>\n",
       "<table border=\"1\" class=\"dataframe\">\n",
       "  <thead>\n",
       "    <tr style=\"text-align: right;\">\n",
       "      <th></th>\n",
       "      <th>Open</th>\n",
       "      <th>High</th>\n",
       "      <th>Low</th>\n",
       "      <th>Close</th>\n",
       "      <th>Volume</th>\n",
       "      <th>Tomorrow</th>\n",
       "      <th>Target</th>\n",
       "      <th>Close_Ratio_2</th>\n",
       "      <th>Trend_2</th>\n",
       "      <th>Close_Ratio_5</th>\n",
       "      <th>...</th>\n",
       "      <th>Close_Ratio_60</th>\n",
       "      <th>Trend_60</th>\n",
       "      <th>Close_Ratio_250</th>\n",
       "      <th>Trend_250</th>\n",
       "      <th>Close_Ratio_1000</th>\n",
       "      <th>Trend_1000</th>\n",
       "      <th>EMA12</th>\n",
       "      <th>EMA26</th>\n",
       "      <th>MACD</th>\n",
       "      <th>Signal_Line</th>\n",
       "    </tr>\n",
       "    <tr>\n",
       "      <th>Date</th>\n",
       "      <th></th>\n",
       "      <th></th>\n",
       "      <th></th>\n",
       "      <th></th>\n",
       "      <th></th>\n",
       "      <th></th>\n",
       "      <th></th>\n",
       "      <th></th>\n",
       "      <th></th>\n",
       "      <th></th>\n",
       "      <th></th>\n",
       "      <th></th>\n",
       "      <th></th>\n",
       "      <th></th>\n",
       "      <th></th>\n",
       "      <th></th>\n",
       "      <th></th>\n",
       "      <th></th>\n",
       "      <th></th>\n",
       "      <th></th>\n",
       "      <th></th>\n",
       "    </tr>\n",
       "  </thead>\n",
       "  <tbody>\n",
       "    <tr>\n",
       "      <th>2003-12-26 00:00:00-05:00</th>\n",
       "      <td>1094.040039</td>\n",
       "      <td>1098.469971</td>\n",
       "      <td>1094.040039</td>\n",
       "      <td>1095.890015</td>\n",
       "      <td>356070000</td>\n",
       "      <td>1109.479980</td>\n",
       "      <td>1</td>\n",
       "      <td>1.000845</td>\n",
       "      <td>1.0</td>\n",
       "      <td>1.002176</td>\n",
       "      <td>...</td>\n",
       "      <td>1.039354</td>\n",
       "      <td>34.0</td>\n",
       "      <td>1.137825</td>\n",
       "      <td>135.0</td>\n",
       "      <td>0.957328</td>\n",
       "      <td>485.0</td>\n",
       "      <td>1095.890015</td>\n",
       "      <td>1095.890015</td>\n",
       "      <td>0.000000</td>\n",
       "      <td>0.000000</td>\n",
       "    </tr>\n",
       "    <tr>\n",
       "      <th>2003-12-29 00:00:00-05:00</th>\n",
       "      <td>1095.890015</td>\n",
       "      <td>1109.479980</td>\n",
       "      <td>1095.890015</td>\n",
       "      <td>1109.479980</td>\n",
       "      <td>1058800000</td>\n",
       "      <td>1109.640015</td>\n",
       "      <td>1</td>\n",
       "      <td>1.006162</td>\n",
       "      <td>2.0</td>\n",
       "      <td>1.010755</td>\n",
       "      <td>...</td>\n",
       "      <td>1.050761</td>\n",
       "      <td>34.0</td>\n",
       "      <td>1.150837</td>\n",
       "      <td>135.0</td>\n",
       "      <td>0.969445</td>\n",
       "      <td>486.0</td>\n",
       "      <td>1097.980779</td>\n",
       "      <td>1096.896679</td>\n",
       "      <td>1.084100</td>\n",
       "      <td>0.216820</td>\n",
       "    </tr>\n",
       "    <tr>\n",
       "      <th>2003-12-30 00:00:00-05:00</th>\n",
       "      <td>1109.479980</td>\n",
       "      <td>1109.750000</td>\n",
       "      <td>1106.410034</td>\n",
       "      <td>1109.640015</td>\n",
       "      <td>1012600000</td>\n",
       "      <td>1111.920044</td>\n",
       "      <td>1</td>\n",
       "      <td>1.000072</td>\n",
       "      <td>2.0</td>\n",
       "      <td>1.007835</td>\n",
       "      <td>...</td>\n",
       "      <td>1.049591</td>\n",
       "      <td>34.0</td>\n",
       "      <td>1.150046</td>\n",
       "      <td>135.0</td>\n",
       "      <td>0.969833</td>\n",
       "      <td>486.0</td>\n",
       "      <td>1099.774507</td>\n",
       "      <td>1097.840630</td>\n",
       "      <td>1.933878</td>\n",
       "      <td>0.560232</td>\n",
       "    </tr>\n",
       "    <tr>\n",
       "      <th>2003-12-31 00:00:00-05:00</th>\n",
       "      <td>1109.640015</td>\n",
       "      <td>1112.560059</td>\n",
       "      <td>1106.209961</td>\n",
       "      <td>1111.920044</td>\n",
       "      <td>1027500000</td>\n",
       "      <td>1108.479980</td>\n",
       "      <td>0</td>\n",
       "      <td>1.001026</td>\n",
       "      <td>2.0</td>\n",
       "      <td>1.006997</td>\n",
       "      <td>...</td>\n",
       "      <td>1.050463</td>\n",
       "      <td>34.0</td>\n",
       "      <td>1.151439</td>\n",
       "      <td>136.0</td>\n",
       "      <td>0.972073</td>\n",
       "      <td>486.0</td>\n",
       "      <td>1101.643051</td>\n",
       "      <td>1098.883549</td>\n",
       "      <td>2.759502</td>\n",
       "      <td>1.000086</td>\n",
       "    </tr>\n",
       "    <tr>\n",
       "      <th>2004-01-02 00:00:00-05:00</th>\n",
       "      <td>1111.920044</td>\n",
       "      <td>1118.849976</td>\n",
       "      <td>1105.079956</td>\n",
       "      <td>1108.479980</td>\n",
       "      <td>1153200000</td>\n",
       "      <td>1122.219971</td>\n",
       "      <td>1</td>\n",
       "      <td>0.998451</td>\n",
       "      <td>1.0</td>\n",
       "      <td>1.001263</td>\n",
       "      <td>...</td>\n",
       "      <td>1.046073</td>\n",
       "      <td>33.0</td>\n",
       "      <td>1.147024</td>\n",
       "      <td>135.0</td>\n",
       "      <td>0.969348</td>\n",
       "      <td>485.0</td>\n",
       "      <td>1102.694887</td>\n",
       "      <td>1099.594396</td>\n",
       "      <td>3.100491</td>\n",
       "      <td>1.420167</td>\n",
       "    </tr>\n",
       "    <tr>\n",
       "      <th>...</th>\n",
       "      <td>...</td>\n",
       "      <td>...</td>\n",
       "      <td>...</td>\n",
       "      <td>...</td>\n",
       "      <td>...</td>\n",
       "      <td>...</td>\n",
       "      <td>...</td>\n",
       "      <td>...</td>\n",
       "      <td>...</td>\n",
       "      <td>...</td>\n",
       "      <td>...</td>\n",
       "      <td>...</td>\n",
       "      <td>...</td>\n",
       "      <td>...</td>\n",
       "      <td>...</td>\n",
       "      <td>...</td>\n",
       "      <td>...</td>\n",
       "      <td>...</td>\n",
       "      <td>...</td>\n",
       "      <td>...</td>\n",
       "      <td>...</td>\n",
       "    </tr>\n",
       "    <tr>\n",
       "      <th>2024-01-31 00:00:00-05:00</th>\n",
       "      <td>4899.189941</td>\n",
       "      <td>4906.750000</td>\n",
       "      <td>4845.149902</td>\n",
       "      <td>4845.649902</td>\n",
       "      <td>4696120000</td>\n",
       "      <td>4906.189941</td>\n",
       "      <td>1</td>\n",
       "      <td>0.991882</td>\n",
       "      <td>0.0</td>\n",
       "      <td>0.989567</td>\n",
       "      <td>...</td>\n",
       "      <td>1.039463</td>\n",
       "      <td>39.0</td>\n",
       "      <td>1.112925</td>\n",
       "      <td>136.0</td>\n",
       "      <td>1.210560</td>\n",
       "      <td>527.0</td>\n",
       "      <td>4855.780539</td>\n",
       "      <td>4799.220411</td>\n",
       "      <td>56.560128</td>\n",
       "      <td>54.941814</td>\n",
       "    </tr>\n",
       "    <tr>\n",
       "      <th>2024-02-01 00:00:00-05:00</th>\n",
       "      <td>4861.109863</td>\n",
       "      <td>4906.970215</td>\n",
       "      <td>4853.520020</td>\n",
       "      <td>4906.189941</td>\n",
       "      <td>4386090000</td>\n",
       "      <td>4958.609863</td>\n",
       "      <td>1</td>\n",
       "      <td>1.006208</td>\n",
       "      <td>1.0</td>\n",
       "      <td>1.001439</td>\n",
       "      <td>...</td>\n",
       "      <td>1.050393</td>\n",
       "      <td>39.0</td>\n",
       "      <td>1.126078</td>\n",
       "      <td>136.0</td>\n",
       "      <td>1.225211</td>\n",
       "      <td>527.0</td>\n",
       "      <td>4863.535832</td>\n",
       "      <td>4807.144080</td>\n",
       "      <td>56.391752</td>\n",
       "      <td>55.231802</td>\n",
       "    </tr>\n",
       "    <tr>\n",
       "      <th>2024-02-02 00:00:00-05:00</th>\n",
       "      <td>4916.060059</td>\n",
       "      <td>4975.290039</td>\n",
       "      <td>4907.990234</td>\n",
       "      <td>4958.609863</td>\n",
       "      <td>3974350000</td>\n",
       "      <td>4942.810059</td>\n",
       "      <td>0</td>\n",
       "      <td>1.005314</td>\n",
       "      <td>2.0</td>\n",
       "      <td>1.009351</td>\n",
       "      <td>...</td>\n",
       "      <td>1.059375</td>\n",
       "      <td>39.0</td>\n",
       "      <td>1.137251</td>\n",
       "      <td>137.0</td>\n",
       "      <td>1.237813</td>\n",
       "      <td>527.0</td>\n",
       "      <td>4878.162606</td>\n",
       "      <td>4818.363768</td>\n",
       "      <td>59.798838</td>\n",
       "      <td>56.145209</td>\n",
       "    </tr>\n",
       "    <tr>\n",
       "      <th>2024-02-05 00:00:00-05:00</th>\n",
       "      <td>4957.189941</td>\n",
       "      <td>4957.189941</td>\n",
       "      <td>4918.089844</td>\n",
       "      <td>4942.810059</td>\n",
       "      <td>4023640000</td>\n",
       "      <td>4954.229980</td>\n",
       "      <td>1</td>\n",
       "      <td>0.998404</td>\n",
       "      <td>1.0</td>\n",
       "      <td>1.005526</td>\n",
       "      <td>...</td>\n",
       "      <td>1.053882</td>\n",
       "      <td>38.0</td>\n",
       "      <td>1.132763</td>\n",
       "      <td>137.0</td>\n",
       "      <td>1.233386</td>\n",
       "      <td>527.0</td>\n",
       "      <td>4888.108368</td>\n",
       "      <td>4827.582012</td>\n",
       "      <td>60.526356</td>\n",
       "      <td>57.021438</td>\n",
       "    </tr>\n",
       "    <tr>\n",
       "      <th>2024-02-06 00:00:00-05:00</th>\n",
       "      <td>4950.160156</td>\n",
       "      <td>4957.770020</td>\n",
       "      <td>4934.879883</td>\n",
       "      <td>4954.229980</td>\n",
       "      <td>4440880000</td>\n",
       "      <td>4995.060059</td>\n",
       "      <td>1</td>\n",
       "      <td>1.001154</td>\n",
       "      <td>1.0</td>\n",
       "      <td>1.006651</td>\n",
       "      <td>...</td>\n",
       "      <td>1.054176</td>\n",
       "      <td>38.0</td>\n",
       "      <td>1.134558</td>\n",
       "      <td>137.0</td>\n",
       "      <td>1.235750</td>\n",
       "      <td>527.0</td>\n",
       "      <td>4898.280924</td>\n",
       "      <td>4836.963343</td>\n",
       "      <td>61.317581</td>\n",
       "      <td>57.880667</td>\n",
       "    </tr>\n",
       "  </tbody>\n",
       "</table>\n",
       "<p>5062 rows × 21 columns</p>\n",
       "</div>"
      ],
      "text/plain": [
       "                                  Open         High          Low        Close  \\\n",
       "Date                                                                            \n",
       "2003-12-26 00:00:00-05:00  1094.040039  1098.469971  1094.040039  1095.890015   \n",
       "2003-12-29 00:00:00-05:00  1095.890015  1109.479980  1095.890015  1109.479980   \n",
       "2003-12-30 00:00:00-05:00  1109.479980  1109.750000  1106.410034  1109.640015   \n",
       "2003-12-31 00:00:00-05:00  1109.640015  1112.560059  1106.209961  1111.920044   \n",
       "2004-01-02 00:00:00-05:00  1111.920044  1118.849976  1105.079956  1108.479980   \n",
       "...                                ...          ...          ...          ...   \n",
       "2024-01-31 00:00:00-05:00  4899.189941  4906.750000  4845.149902  4845.649902   \n",
       "2024-02-01 00:00:00-05:00  4861.109863  4906.970215  4853.520020  4906.189941   \n",
       "2024-02-02 00:00:00-05:00  4916.060059  4975.290039  4907.990234  4958.609863   \n",
       "2024-02-05 00:00:00-05:00  4957.189941  4957.189941  4918.089844  4942.810059   \n",
       "2024-02-06 00:00:00-05:00  4950.160156  4957.770020  4934.879883  4954.229980   \n",
       "\n",
       "                               Volume     Tomorrow  Target  Close_Ratio_2  \\\n",
       "Date                                                                        \n",
       "2003-12-26 00:00:00-05:00   356070000  1109.479980       1       1.000845   \n",
       "2003-12-29 00:00:00-05:00  1058800000  1109.640015       1       1.006162   \n",
       "2003-12-30 00:00:00-05:00  1012600000  1111.920044       1       1.000072   \n",
       "2003-12-31 00:00:00-05:00  1027500000  1108.479980       0       1.001026   \n",
       "2004-01-02 00:00:00-05:00  1153200000  1122.219971       1       0.998451   \n",
       "...                               ...          ...     ...            ...   \n",
       "2024-01-31 00:00:00-05:00  4696120000  4906.189941       1       0.991882   \n",
       "2024-02-01 00:00:00-05:00  4386090000  4958.609863       1       1.006208   \n",
       "2024-02-02 00:00:00-05:00  3974350000  4942.810059       0       1.005314   \n",
       "2024-02-05 00:00:00-05:00  4023640000  4954.229980       1       0.998404   \n",
       "2024-02-06 00:00:00-05:00  4440880000  4995.060059       1       1.001154   \n",
       "\n",
       "                           Trend_2  Close_Ratio_5  ...  Close_Ratio_60  \\\n",
       "Date                                               ...                   \n",
       "2003-12-26 00:00:00-05:00      1.0       1.002176  ...        1.039354   \n",
       "2003-12-29 00:00:00-05:00      2.0       1.010755  ...        1.050761   \n",
       "2003-12-30 00:00:00-05:00      2.0       1.007835  ...        1.049591   \n",
       "2003-12-31 00:00:00-05:00      2.0       1.006997  ...        1.050463   \n",
       "2004-01-02 00:00:00-05:00      1.0       1.001263  ...        1.046073   \n",
       "...                            ...            ...  ...             ...   \n",
       "2024-01-31 00:00:00-05:00      0.0       0.989567  ...        1.039463   \n",
       "2024-02-01 00:00:00-05:00      1.0       1.001439  ...        1.050393   \n",
       "2024-02-02 00:00:00-05:00      2.0       1.009351  ...        1.059375   \n",
       "2024-02-05 00:00:00-05:00      1.0       1.005526  ...        1.053882   \n",
       "2024-02-06 00:00:00-05:00      1.0       1.006651  ...        1.054176   \n",
       "\n",
       "                           Trend_60  Close_Ratio_250  Trend_250  \\\n",
       "Date                                                              \n",
       "2003-12-26 00:00:00-05:00      34.0         1.137825      135.0   \n",
       "2003-12-29 00:00:00-05:00      34.0         1.150837      135.0   \n",
       "2003-12-30 00:00:00-05:00      34.0         1.150046      135.0   \n",
       "2003-12-31 00:00:00-05:00      34.0         1.151439      136.0   \n",
       "2004-01-02 00:00:00-05:00      33.0         1.147024      135.0   \n",
       "...                             ...              ...        ...   \n",
       "2024-01-31 00:00:00-05:00      39.0         1.112925      136.0   \n",
       "2024-02-01 00:00:00-05:00      39.0         1.126078      136.0   \n",
       "2024-02-02 00:00:00-05:00      39.0         1.137251      137.0   \n",
       "2024-02-05 00:00:00-05:00      38.0         1.132763      137.0   \n",
       "2024-02-06 00:00:00-05:00      38.0         1.134558      137.0   \n",
       "\n",
       "                           Close_Ratio_1000  Trend_1000        EMA12  \\\n",
       "Date                                                                   \n",
       "2003-12-26 00:00:00-05:00          0.957328       485.0  1095.890015   \n",
       "2003-12-29 00:00:00-05:00          0.969445       486.0  1097.980779   \n",
       "2003-12-30 00:00:00-05:00          0.969833       486.0  1099.774507   \n",
       "2003-12-31 00:00:00-05:00          0.972073       486.0  1101.643051   \n",
       "2004-01-02 00:00:00-05:00          0.969348       485.0  1102.694887   \n",
       "...                                     ...         ...          ...   \n",
       "2024-01-31 00:00:00-05:00          1.210560       527.0  4855.780539   \n",
       "2024-02-01 00:00:00-05:00          1.225211       527.0  4863.535832   \n",
       "2024-02-02 00:00:00-05:00          1.237813       527.0  4878.162606   \n",
       "2024-02-05 00:00:00-05:00          1.233386       527.0  4888.108368   \n",
       "2024-02-06 00:00:00-05:00          1.235750       527.0  4898.280924   \n",
       "\n",
       "                                 EMA26       MACD  Signal_Line  \n",
       "Date                                                            \n",
       "2003-12-26 00:00:00-05:00  1095.890015   0.000000     0.000000  \n",
       "2003-12-29 00:00:00-05:00  1096.896679   1.084100     0.216820  \n",
       "2003-12-30 00:00:00-05:00  1097.840630   1.933878     0.560232  \n",
       "2003-12-31 00:00:00-05:00  1098.883549   2.759502     1.000086  \n",
       "2004-01-02 00:00:00-05:00  1099.594396   3.100491     1.420167  \n",
       "...                                ...        ...          ...  \n",
       "2024-01-31 00:00:00-05:00  4799.220411  56.560128    54.941814  \n",
       "2024-02-01 00:00:00-05:00  4807.144080  56.391752    55.231802  \n",
       "2024-02-02 00:00:00-05:00  4818.363768  59.798838    56.145209  \n",
       "2024-02-05 00:00:00-05:00  4827.582012  60.526356    57.021438  \n",
       "2024-02-06 00:00:00-05:00  4836.963343  61.317581    57.880667  \n",
       "\n",
       "[5062 rows x 21 columns]"
      ]
     },
     "execution_count": 56,
     "metadata": {},
     "output_type": "execute_result"
    }
   ],
   "source": [
    "sp500"
   ]
  },
  {
   "cell_type": "code",
   "execution_count": null,
   "id": "ef446342-fe9a-40bd-b1c2-7f8f8a953415",
   "metadata": {},
   "outputs": [],
   "source": []
  },
  {
   "cell_type": "code",
   "execution_count": null,
   "id": "cf091dfb-7001-479a-b922-d68b4f182991",
   "metadata": {},
   "outputs": [],
   "source": []
  }
 ],
 "metadata": {
  "kernelspec": {
   "display_name": "Python 3 (ipykernel)",
   "language": "python",
   "name": "python3"
  },
  "language_info": {
   "codemirror_mode": {
    "name": "ipython",
    "version": 3
   },
   "file_extension": ".py",
   "mimetype": "text/x-python",
   "name": "python",
   "nbconvert_exporter": "python",
   "pygments_lexer": "ipython3",
   "version": "3.12.1"
  }
 },
 "nbformat": 4,
 "nbformat_minor": 5
}
